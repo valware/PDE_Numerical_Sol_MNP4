{
 "cells": [
  {
   "cell_type": "markdown",
   "metadata": {},
   "source": [
    "# METODOS NUMERICOS Y PROGRAMACION 4\n",
    "## Tarea 3\n",
    "##### Daniel Valencia - Computacion Cientifica - 2018-1\n",
    "---"
   ]
  },
  {
   "cell_type": "markdown",
   "metadata": {},
   "source": [
    "# Solucion numerica de EDPs\n",
    "---"
   ]
  },
  {
   "cell_type": "markdown",
   "metadata": {},
   "source": [
    "<ol>\n",
    "    <li> Ecuaciones Parabolicas \n",
    "        <ul>\n",
    "            <li> Metodo Explicito </li>\n",
    "            <li> Metodo Implicitod </li>\n",
    "            <li> Metodo Crank - Nicolson </li>\n",
    "        </ul>\n",
    "    </li>\n",
    "    <li> Ecuaciones Hiperbolicas\n",
    "        <ul>\n",
    "            <li> Ecuacion de la onda </li>\n",
    "        </ul>\n",
    "    </li>\n",
    "    <li> Ecuaciones Elipticas \n",
    "        <ul>\n",
    "            <li> Ecuacion de Poisson </li>\n",
    "            <li> Ecuacion de Laplace </li>\n",
    "        </ul>\n",
    "    </li>    \n",
    "</ol>\n"
   ]
  },
  {
   "cell_type": "markdown",
   "metadata": {},
   "source": [
    "## 1) EDP Parabolicas\n",
    "---"
   ]
  },
  {
   "cell_type": "markdown",
   "metadata": {},
   "source": [
    "Se va a considerar la ecuacion diferencial parcial del calor o de difusion:\n",
    "$$\\frac{\\partial U}{\\partial t} (x,t) = \\alpha ^2 \\frac{\\partial ^2 U}{\\partial x^2} (x,t) \\text{  ,  } 0 < x < l \\text{  , } t > 0$$\n",
    "Sujeta a las condiciones: \n",
    "$$U(0,t) = U(l,t) = 0 \\text{  ,  } t>0 \\text{  y  }  U(x,0) = f(x) \\text{  ,  } 0 < x < l$$"
   ]
  },
  {
   "cell_type": "markdown",
   "metadata": {},
   "source": [
    "### - Metodo Explicito\n",
    "---\n",
    "Tomando: $$U(x_i, t_j) = w_{ij}$$\n",
    "Se obtiene la forma matricial: \n",
    "$$\n",
    "(1-2\\lambda)w_{ij} + \\lambda w_{i+1,j} + \\lambda w_{i-1,j} = w_{i,j-1} \\text{ , con } w_{i0} = f(x_i)\n",
    "$$\n",
    "$$\n",
    "\\begin{bmatrix}\n",
    "    (1-2\\lambda) & \\lambda & & \\dots & 0 \\\\\n",
    "    \\lambda & (1-2\\lambda) & \\lambda & \\dots & 0\\\\\n",
    "    0 & \\lambda & & & \\vdots\\\\\n",
    "    \\vdots& & \\ddots &  & 0\\\\\n",
    "     & & & & \\lambda \\\\\n",
    "    0 & & & \\lambda & (1-2\\lambda)\n",
    "\\end{bmatrix} = \n",
    "\\begin{bmatrix}\n",
    "    w_{1j} \\\\\n",
    "    w_{2j} \\\\\n",
    "    w_{3j} \\\\\n",
    "    \\vdots \\\\\n",
    "           \\\\\n",
    "    w_{m-1,j}\n",
    "\\end{bmatrix} = \n",
    "\\begin{bmatrix}\n",
    "    w_{1,j-1} \\\\\n",
    "    w_{2,j-1} \\\\\n",
    "    w_{3,j-1} \\\\\n",
    "    \\vdots \\\\\n",
    "           \\\\\n",
    "    w_{m-1,j-1}\n",
    "\\end{bmatrix}\n",
    "$$\n",
    "Con $\\displaystyle \\lambda = \\frac{\\alpha ^2 k}{h^2}$\n",
    "\n",
    "#### Ejemplo (Burden - pag 727)\n",
    "Vamos a resolver el siguiente ejempo: \n",
    "\n",
    "Usando los tamanos de paso $h = 0.1$ y $k = 0.0005$ para aproximar la solucion a la ecuacion de calor: \n",
    "$$\\frac{\\partial U}{\\partial t} (x,t)  - \\frac{\\partial ^2 U}{\\partial x^2} (x,t)  = 0 \\text{  ,  } 0 < x < 1 \\text{  ,  } 0 \\leq t$$\n",
    "Con las condiciones frontera: \n",
    "$$U(0,t) = U(l,t) = 0 \\text{  ,  } 0 < t$$\n",
    "Y las condiciones iniciales: \n",
    "$$U(x,0) = sin(\\pi x) \\text{  ,  } 0 \\leq x \\leq 1$$"
   ]
  },
  {
   "cell_type": "code",
   "execution_count": null,
   "metadata": {},
   "outputs": [],
   "source": [
    "import numpy as np\n",
    "from matplotlib import pyplot as plt\n",
    "import pandas as pd\n",
    "import matplotlib.animation as animation\n",
    "from matplotlib import rc\n",
    "rc('animation', html='jshtml')"
   ]
  },
  {
   "cell_type": "markdown",
   "metadata": {},
   "source": [
    "#### A partir de ahora se usaran las siguientes variables para los metodos: "
   ]
  },
  {
   "cell_type": "markdown",
   "metadata": {},
   "source": [
    "<ul>\n",
    "    <li> c: Difusividad termica.</li>\n",
    "    <li> L: Longitud de la barra.</li>\n",
    "    <li> T: Tiempo final.</li>\n",
    "    <li> h: Step-size que divide a la barra. </li>\n",
    "    <li> k: Step-size que divide al tiempo.</li>\n",
    "    <li> f: Condicion inicial U(x,0) = f(x).</li>\n",
    "    <li> a: Condicion inicial de frontera en U(0,t).</li>\n",
    "    <li> b: Condicion inicial de frontera en U(l,t).</li>\n",
    "</ul>"
   ]
  },
  {
   "cell_type": "code",
   "execution_count": null,
   "metadata": {},
   "outputs": [],
   "source": [
    "def tridiag(a,b,c,N):\n",
    "    A = np.zeros((N,N))\n",
    "    \n",
    "    np.fill_diagonal(A[:-1,1:],a)\n",
    "    np.fill_diagonal(A,b)\n",
    "    np.fill_diagonal(A[1:,:-1],c)\n",
    "    \n",
    "    return A"
   ]
  },
  {
   "cell_type": "markdown",
   "metadata": {},
   "source": [
    "#### Solucion exacta: "
   ]
  },
  {
   "cell_type": "code",
   "execution_count": null,
   "metadata": {},
   "outputs": [],
   "source": [
    "def Exacta(x,t):\n",
    "    n = len(x)\n",
    "    sol = []\n",
    "    for i in range(n):\n",
    "        sol.append((np.exp((-1)*(np.pi**2)*(t)))*np.sin(np.pi*x[i]))\n",
    "    return sol"
   ]
  },
  {
   "cell_type": "markdown",
   "metadata": {},
   "source": [
    "#### Error absoluto"
   ]
  },
  {
   "cell_type": "code",
   "execution_count": null,
   "metadata": {},
   "outputs": [],
   "source": [
    "def ErrorAb(a,b):\n",
    "    n = len(a)\n",
    "    c = []\n",
    "    for i in range(n):\n",
    "        c.append(np.absolute(a[i] - b[i]))\n",
    "    return c"
   ]
  },
  {
   "cell_type": "markdown",
   "metadata": {},
   "source": [
    "### - Implementacion en Python"
   ]
  },
  {
   "cell_type": "code",
   "execution_count": null,
   "metadata": {},
   "outputs": [],
   "source": [
    "def EDP_Exp_Matricial(c, L, T, h, k, f, a, b):\n",
    "    \n",
    "    r = c*k/h**2\n",
    "    m = round(L/h) + 1\n",
    "    n = round(T/k) + 1\n",
    "    \n",
    "    x = np.linspace(0, L, m)\n",
    "    \n",
    "    w = np.zeros((n,m))\n",
    "    w[0] = f(x)\n",
    "    w[:,0] = a(0) \n",
    "    w[:,-1] = b(L)\n",
    "    \n",
    "    W = tridiag(r, 1-2*r, r, m-2) \n",
    "    \n",
    "    for i in range(n-1):\n",
    "        w[i+1,1:-1] = np.dot(W, w[i,1:-1])\n",
    "        w[i+1,1] += r*w[i,0]\n",
    "        w[i+1,-2] += r*w[i,-1]\n",
    "        \n",
    "    return w,x"
   ]
  },
  {
   "cell_type": "markdown",
   "metadata": {},
   "source": [
    "##### Los datos para el ejemplo: "
   ]
  },
  {
   "cell_type": "code",
   "execution_count": null,
   "metadata": {},
   "outputs": [],
   "source": [
    "Mat, x1 = EDP_Exp_Matricial(1, 1, 0.5, 0.1, 0.0005, lambda x: np.sin(np.pi * x), lambda x: 0, lambda x:0)\n",
    "\n",
    "Exa1 = Exacta(x1,0.5)\n",
    "Err1 = ErrorAb(Mat[-1],Exa1)\n",
    "d = {'x': x1 , 'Aproximacion': Mat[-1], 'Exacta': Exa1, 'Error': Err1}\n",
    "df = pd.DataFrame(data=d)\n",
    "df = df[['x','Aproximacion','Exacta','Error']]\n",
    "df"
   ]
  },
  {
   "cell_type": "code",
   "execution_count": null,
   "metadata": {},
   "outputs": [],
   "source": [
    "fig = plt.figure()\n",
    "ax = fig.add_subplot(1,1,1)\n",
    "\n",
    "x = np.linspace(0, 1, 11)\n",
    "t = np.linspace(0, 1, 1001)\n",
    "\n",
    "def init():\n",
    "  ax.plot([], [])\n",
    "  ax.grid()\n",
    "  ax.set_ylim(0, 1)\n",
    "  ax.set_ylabel(\"Distribucion en el eje Y \")\n",
    "  ax.set_xlabel(\"Posición en la cuerda\")\n",
    "  ax.set_title(\"Longitud de la barra \")\n",
    "\n",
    "def animate(i):\n",
    "  del ax.lines[:]\n",
    "  ax.plot(x, Mat[i], color=\"blue\", label=\"aprox. $t = {0:.2f}$ seg.\".format(t[i]))\n",
    "  ax.legend()\n",
    "  \n",
    "animation.FuncAnimation(fig, animate, init_func=init, frames=1001, interval=200, repeat=True)"
   ]
  },
  {
   "cell_type": "markdown",
   "metadata": {},
   "source": [
    "### - Metodo Implicito\n",
    "---\n",
    "Se onsidera la siguiente forma matricial:\n",
    "$$\n",
    "(1+2\\lambda)w_{ij} - \\lambda w_{i+1,j} - \\lambda w_{i-1,j} = w_{i,j-1} \\text{ , con } w_{i0} = f(x_i)\n",
    "$$\n",
    "$$\n",
    "\\begin{bmatrix}\n",
    "    (1+2\\lambda) & -\\lambda & & \\dots & 0 \\\\\n",
    "    - \\lambda & (1+2\\lambda) & -\\lambda & \\dots & 0\\\\\n",
    "    0 & -\\lambda & & & \\vdots \\\\\n",
    "    \\vdots & & \\ddots &  & 0\\\\\n",
    "     & & & & -\\lambda \\\\\n",
    "    0 & & & -\\lambda &(1+2\\lambda)\n",
    "\\end{bmatrix} = \n",
    "\\begin{bmatrix}\n",
    "    w_{1j} \\\\\n",
    "    w_{2j} \\\\\n",
    "    w_{3j} \\\\\n",
    "    \\vdots \\\\\n",
    "           \\\\\n",
    "    w_{m-1,j}\n",
    "\\end{bmatrix} = \n",
    "\\begin{bmatrix}\n",
    "    w_{1,j-1} \\\\\n",
    "    w_{2,j-1} \\\\\n",
    "    w_{3,j-1} \\\\\n",
    "    \\vdots \\\\\n",
    "           \\\\\n",
    "    w_{m-1,j-1}\n",
    "\\end{bmatrix}\n",
    "$$\n",
    "#### - Ejemplo (Burden - pag 727)\n",
    "Vamos a resolver el mismo ejempo que en el caso Explicito: \n",
    "\n",
    "Usando los tamanos de paso $h = 0.1$ y $k = 0.0005$ para aproximar la solucion a la ecuacion de calor: \n",
    "$$\\frac{\\partial U}{\\partial t} (x,t)  - \\frac{\\partial ^2 U}{\\partial x^2} (x,t)  = 0 \\text{  ,  } 0 < x < 1 \\text{  ,  } 0 \\leq t$$\n",
    "Con las condiciones frontera: \n",
    "$$U(0,t) = U(l,t) = 0 \\text{  ,  } 0 < t$$\n",
    "Y las condiciones iniciales: \n",
    "$$U(x,0) = sin(\\pi x) \\text{  ,  } 0 \\leq x \\leq 1$$"
   ]
  },
  {
   "cell_type": "markdown",
   "metadata": {},
   "source": [
    "### - Implementacion en Python"
   ]
  },
  {
   "cell_type": "code",
   "execution_count": null,
   "metadata": {},
   "outputs": [],
   "source": [
    "def EDP_Imp_Matricial(c, L, T, h, k, f, a, b):\n",
    "    \n",
    "    r = c*k/h**2\n",
    "    m = round(L/h) + 1\n",
    "    n = round(T/k) + 1\n",
    "    \n",
    "    x = np.linspace(0, L, m)\n",
    "    \n",
    "    w = np.zeros((n,m))\n",
    "    w[0] = f(x)\n",
    "    w[:,0] = a(0) \n",
    "    w[:,-1] = b(L)\n",
    "    \n",
    "    W = tridiag(-r, 1+2*r, -r, m-2) \n",
    "\n",
    "    W_inv = np.linalg.inv(W)\n",
    "    \n",
    "    for i in range(n-1):\n",
    "        B = w[i,1:-1].copy() \n",
    "        B[0] += r*w[i,0]\n",
    "        B[-1] += r*w[i,-1]\n",
    "        w[i+1,1:-1] = np.dot(W_inv, B)\n",
    "        \n",
    "    return w,x"
   ]
  },
  {
   "cell_type": "markdown",
   "metadata": {},
   "source": [
    "#### Los datos para el ejemplo: "
   ]
  },
  {
   "cell_type": "code",
   "execution_count": null,
   "metadata": {},
   "outputs": [],
   "source": [
    "Mat2, x2 = EDP_Imp_Matricial(1, 1, 0.5, 0.1, 0.0005, lambda x: np.sin(np.pi * x), lambda x: 0, lambda x:0)\n",
    "Exa2 = Exacta(x2,0.5)\n",
    "Err2 = ErrorAb(Mat2[-1],Exa2)\n",
    "\n",
    "d2 = {'x': x2 , 'Aproximacion': Mat2[-1], 'Exacta': Exa2, 'Error': Err2}\n",
    "df2 = pd.DataFrame(data=d2)\n",
    "df2 = df2[['x','Aproximacion','Exacta','Error']]\n",
    "df2"
   ]
  },
  {
   "cell_type": "code",
   "execution_count": null,
   "metadata": {},
   "outputs": [],
   "source": [
    "fig2 = plt.figure()\n",
    "ax2 = fig2.add_subplot(1,1,1)\n",
    "\n",
    "x2 = np.linspace(0, 1, 11)\n",
    "t2 = np.linspace(0, 1, 1001)\n",
    "\n",
    "def init2():\n",
    "  ax2.plot([], [])\n",
    "  ax2.grid()\n",
    "  ax2.set_ylim(0, 1)\n",
    "  ax2.set_ylabel(\"Distribucion en el eje Y \")\n",
    "  ax2.set_xlabel(\"Posición en la cuerda\")\n",
    "  ax2.set_title(\"Longitud de la barra \")\n",
    "\n",
    "def animate2(i):\n",
    "  del ax2.lines[:]\n",
    "  ax2.plot(x2, Mat2[i], color=\"blue\", label=\"aprox. $t = {0:.2f}$ seg.\".format(t[i]))\n",
    "  ax2.legend()\n",
    "  \n",
    "animation.FuncAnimation(fig2, animate2, init_func=init2, frames=1001, interval=200, repeat=True)"
   ]
  },
  {
   "cell_type": "markdown",
   "metadata": {},
   "source": [
    "### - Metodo Crank - Nicolson\n",
    "---\n",
    "Se onsidera la siguiente forma matricial:\n",
    "$$\n",
    "\\frac{w_{i,j+1} - w_{ij}}{k} - \\frac{\\alpha^2}{2} \\left[ \\frac{w_{i+1,j} - 2w_{ij} + w_{i-1,j}}{h^2} + \\frac{w_{i+1,j+1} - 2w_{i,j+1} + w_{i-1,j+1}}{h^2} \\right ] = 0\n",
    "$$\n",
    "$$ A w^{(j+1)}  \\text{  =  } B w^{(j)} $$\n",
    "$$\n",
    "A = \\begin{bmatrix}\n",
    "    (1+\\lambda) & -\\frac{\\lambda}{2} & & \\dots & 0 \\\\\n",
    "    -\\frac{\\lambda}{2} & (1+\\lambda) & -\\frac{\\lambda}{2} & \\dots & 0\\\\\n",
    "    0 & -\\frac{\\lambda}{2} & & & \\vdots \\\\\n",
    "    \\vdots & & \\ddots &  & 0\\\\\n",
    "     & & & & -\\frac{\\lambda}{2} \\\\\n",
    "    0 & & & -\\frac{\\lambda}{2} & (1+\\lambda) \n",
    "    \\end{bmatrix}\n",
    "\\text{  ,  } \n",
    "B = \\begin{bmatrix}\n",
    "    (1-\\lambda) & \\frac{\\lambda}{2} & & \\dots & 0 \\\\\n",
    "    \\frac{\\lambda}{2} & (1-\\lambda) & \\frac{\\lambda}{2} & \\dots & 0\\\\\n",
    "    0 & \\frac{\\lambda}{2} & & & \\vdots \\\\\n",
    "    \\vdots & & \\ddots &  & 0\\\\\n",
    "     & & & & \\frac{\\lambda}{2} \\\\\n",
    "    0 & & & \\frac{\\lambda}{2} & (1-\\lambda) \n",
    "    \\end{bmatrix}\n",
    "$$\n",
    "\n",
    "#### - Ejemplo (Burden- pag 727)\n",
    "Vamos a resolver el mismo ejempo que en el caso Explicito: \n",
    "\n",
    "Usando los tamanos de paso $h = 0.1$ y $k = 0.0005$ para aproximar la solucion a la ecuacion de calor: \n",
    "$$\\frac{\\partial U}{\\partial t} (x,t)  - \\frac{\\partial ^2 U}{\\partial x^2} (x,t)  = 0 \\text{  ,  } 0 < x < 1 \\text{  ,  } 0 \\leq t$$\n",
    "Con las condiciones frontera: \n",
    "$$U(0,t) = U(l,t) = 0 \\text{  ,  } 0 < t$$\n",
    "Y las condiciones iniciales: \n",
    "$$U(x,0) = sin(\\pi x) \\text{  ,  } 0 \\leq x \\leq 1$$"
   ]
  },
  {
   "cell_type": "markdown",
   "metadata": {},
   "source": [
    "### - Implementacion en Python"
   ]
  },
  {
   "cell_type": "code",
   "execution_count": null,
   "metadata": {},
   "outputs": [],
   "source": [
    "def EDP_CN_Matricial(c, L, T, h, k, f, a, b):\n",
    "    \n",
    "    r = c*k/h**2\n",
    "    m = round(L/h) + 1\n",
    "    n = round(T/k) + 1\n",
    "    \n",
    "    x = np.linspace(0, L, m)\n",
    "    \n",
    "    w = np.zeros((n,m))\n",
    "    w[0] = f(x)\n",
    "    w[:,0] = a(0) \n",
    "    w[:,-1] = b(L)\n",
    "    \n",
    "    A = tridiag(-r/2, 1+r, -r/2, m-2)\n",
    "    B = tridiag(r/2, 1-r, r/2, m-2)\n",
    "\n",
    "         \n",
    "    A_inv = np.linalg.inv(A)\n",
    "\n",
    "\n",
    "    for i in range(n-1):\n",
    "        \n",
    "        C = np.dot(B, w[i,1:-1])\n",
    "        C[0]  += r/2*(w[i+1,0]  + w[i,0])\n",
    "        C[-1] += r/2*(w[i+1,-1] + w[i,-1])\n",
    "\n",
    "        w[i+1,1:-1] = np.dot(A_inv, C)\n",
    "    \n",
    "    return w, x"
   ]
  },
  {
   "cell_type": "markdown",
   "metadata": {},
   "source": [
    "#### Los datos para el ejemplo: "
   ]
  },
  {
   "cell_type": "code",
   "execution_count": null,
   "metadata": {},
   "outputs": [],
   "source": [
    "Mat3, x3 = EDP_CN_Matricial(1, 1, 0.5, 0.1, 0.0005, lambda x: np.sin(np.pi * x), lambda x: 0, lambda x:0)\n",
    "Exa3 = Exacta(x3,0.5)\n",
    "Err3 = ErrorAb(Mat3[-1],Exa3)\n",
    "d3 = {'x': x3 , 'Aproximacion': Mat3[-1], 'Exacta': Exa3, 'Error': Err3}\n",
    "df3 = pd.DataFrame(data=d3)\n",
    "df3 = df3[['x','Aproximacion','Exacta','Error']]\n",
    "df3"
   ]
  },
  {
   "cell_type": "code",
   "execution_count": null,
   "metadata": {},
   "outputs": [],
   "source": [
    "fig3 = plt.figure()\n",
    "ax3 = fig3.add_subplot(1,1,1)\n",
    "\n",
    "x3 = np.linspace(0, 1, 11)\n",
    "t3 = np.linspace(0, 1, 1001)\n",
    "\n",
    "def init3():\n",
    "  ax3.plot([], [])\n",
    "  ax3.grid()\n",
    "  ax3.set_ylim(0, 1)\n",
    "  ax3.set_ylabel(\"Distribucion en el eje Y \")\n",
    "  ax3.set_xlabel(\"Posición en la cuerda\")\n",
    "  ax3.set_title(\"Longitud de la barra \")\n",
    "\n",
    "def animate3(i):\n",
    "  del ax3.lines[:]\n",
    "  ax3.plot(x3, Mat3[i], color=\"blue\", label=\"aprox. $t = {0:.2f}$ seg.\".format(t[i]))\n",
    "  ax3.legend()\n",
    "  \n",
    "animation.FuncAnimation(fig3, animate3, init_func=init3, frames=1001, interval=120, repeat=True)"
   ]
  },
  {
   "cell_type": "markdown",
   "metadata": {},
   "source": [
    "## 2) EDP Hiperbolicas\n",
    "---"
   ]
  },
  {
   "cell_type": "markdown",
   "metadata": {},
   "source": [
    "Se va a considerar la ecuacion diferencial parcial de la onda, dada por la ecuacion diferencial:\n",
    "$$\\frac{\\partial^2 U}{\\partial^2 t} (x,t) - \\alpha ^2 \\frac{\\partial ^2 U}{\\partial x^2} (x,t) = 0 \\text{  ,  } 0 < x < l \\text{  , } t > 0$$\n",
    "Sujeta a las condiciones: \n",
    "$$U(0,t) = U(l,t) = 0 \\text{  ,  } t>0 $$\n",
    "$$ U(x,0) = f(x) \\text{  y  } \\frac{\\partial U}{\\partial t} (x,t) = g(x) \\text{ , para } 0 < x < l$$"
   ]
  },
  {
   "cell_type": "markdown",
   "metadata": {},
   "source": [
    "Se obtendra la solucion numerica a partir de: \n",
    "$$ w_{i,j+1} = 2(1-\\lambda^2) w_{ij} + \\lambda^2(w_{i+1,j} + w_{i-1,j}) - w_{i,j-1} \\text{  con  } \\lambda = \\frac{\\alpha k}{h}$$\n",
    "Y, expresado en su forma matricial, se tiene:\n",
    "$$\n",
    "\\begin{bmatrix}\n",
    "    w_{1,j+1} \\\\\n",
    "    w_{2,j+1} \\\\\n",
    "    w_{3,j+1} \\\\\n",
    "    \\vdots \\\\\n",
    "           \\\\\n",
    "    w_{m-1,j+1}\n",
    "\\end{bmatrix}\n",
    "= \\begin{bmatrix}\n",
    "    (2-\\lambda^2) & \\lambda^2 & & \\dots & 0 \\\\\n",
    "    \\lambda^2 & (2-\\lambda^2) & \\lambda^2 & \\dots & 0\\\\\n",
    "    0 & \\lambda^2 & & & \\vdots \\\\\n",
    "    \\vdots & & \\ddots &  & 0\\\\\n",
    "     & & & & \\lambda^2 \\\\\n",
    "    0 & & & \\lambda^2 & (2-\\lambda^2) \n",
    "    \\end{bmatrix}\n",
    "\\begin{bmatrix}\n",
    "    w_{1j} \\\\\n",
    "    w_{2j} \\\\\n",
    "    w_{3j} \\\\\n",
    "    \\vdots \\\\\n",
    "           \\\\\n",
    "    w_{m-1,j}\n",
    "\\end{bmatrix}\n",
    "-\n",
    "\\begin{bmatrix}\n",
    "    w_{1,j-1} \\\\\n",
    "    w_{2,j-1} \\\\\n",
    "    w_{3,j-1} \\\\\n",
    "    \\vdots \\\\\n",
    "           \\\\\n",
    "    w_{m-1,j-1}\n",
    "\\end{bmatrix}\n",
    "$$"
   ]
  },
  {
   "cell_type": "markdown",
   "metadata": {},
   "source": [
    "En la siguiente implementacion se tiene: \n",
    "$$f = U(x,0) \\text{  ,  } g = U_t (x,0) \\text{ : Son las condiciones iniciales.  }$$\n",
    "$$a = U(0,t) \\text{  ,  } b = U(l,t) \\text{ : Son las condiciones de frontera. } $$"
   ]
  },
  {
   "cell_type": "markdown",
   "metadata": {},
   "source": [
    "### - Implementacion en Python"
   ]
  },
  {
   "cell_type": "code",
   "execution_count": null,
   "metadata": {},
   "outputs": [],
   "source": [
    "def EDP_Hiperbolica_Mat(c, L, T, h, k, f, g, a, b):\n",
    "    #f = U(x,0) , g = U_t(x,0) (Condiciones iniciales)\n",
    "    #a = U(0,t) , b = U(l,t) ( Condiciones frontera)\n",
    "    \n",
    "    r = (c*k**2)/h**2\n",
    "    n = round(T/k) + 1\n",
    "    m = round(L/h) + 1\n",
    "\n",
    "    x = np.linspace(0,L,m)\n",
    "    w = np.zeros((n,m))\n",
    "    w[0] = f(x)\n",
    "   \n",
    "    for j in range(1,m-1):\n",
    "        w[1,j] = (1-r)*f(x[j]) + (r/2)*f(x[j+1]) + (r/2)*f(x[j-1]) + k*g(x[j])\n",
    "\n",
    "    w[:,0] = a(0)\n",
    "    w[:,-1] = b(L)\n",
    "\n",
    "    W = tridiag(r, 2-2*r, r, m-2)\n",
    "\n",
    "    for i in range(1,n-1):\n",
    "        w[i+1,1:-1] = np.dot(W, w[i,1:-1]) - w[i-1,1:-1]\n",
    "        w[i+1,1] += r*w[i,0]\n",
    "        w[i+1,-2] += r*w[i,-1]\n",
    "        \n",
    "    return w, x"
   ]
  },
  {
   "cell_type": "markdown",
   "metadata": {},
   "source": [
    "Usando los tamanos de paso h=0.1 y k=0.05 para aproximar la solucion al problema hiperbolico:\n",
    "$$\\frac{\\partial ^2U}{\\partial t^2}(x,t) - 4\\frac{\\partial ^2U}{\\partial x^2}(x,t) = 0 \\text{  ,  } 0<x<l \\text{  ,  } 0 < t.$$\n",
    "Con las condiciones frontera: $$U(0,t) = U(1,t) = 0 \\text{ , para } 0 < t$$\n",
    "Y las condiciones iniciales: $$U(x,0)  = sin (\\pi x) \\text{  ,  } 0 \\leq x \\leq 1 \\text{  , y  } \\frac{\\partial U}{\\partial t} (x,0)  = 0 \\text{  ,  } 0\\leq x \\leq 1$$\n",
    "#### Los datos para el ejemplo: "
   ]
  },
  {
   "cell_type": "code",
   "execution_count": null,
   "metadata": {},
   "outputs": [],
   "source": [
    "def Exacta2(x,t):\n",
    "    n = len(x)\n",
    "    sol = []\n",
    "    for i in range(n):\n",
    "        sol.append((np.sin(np.pi * x[i])) * (np.cos(2*np.pi * t)))\n",
    "    return sol\n",
    "    \n",
    "HipH, xH = EDP_Hiperbolica_Mat(4, 1, 1, 0.1, 0.05, lambda x: np.sin(np.pi * x), lambda x: 0, lambda x: 0, lambda x:0)\n",
    "ExaH = Exacta2(xH,0.5)\n",
    "ErrH = ErrorAb(HipH[-1],ExaH)\n",
    "dH = {'x': xH , 'Aproximacion': HipH[-1], 'Exacta': ExaH, 'Error': ErrH}\n",
    "dH = pd.DataFrame(data=dH)\n",
    "dH = dH[['x','Aproximacion','Exacta','Error']]\n",
    "dH"
   ]
  },
  {
   "cell_type": "code",
   "execution_count": null,
   "metadata": {},
   "outputs": [],
   "source": [
    "figH = plt.figure()\n",
    "axH = figH.add_subplot(1,1,1)\n",
    "\n",
    "xH = np.linspace(0, 1, 11)\n",
    "tH = np.linspace(0, 1, 21)\n",
    "\n",
    "def initH():\n",
    "  axH.plot([], [])\n",
    "  axH.grid()\n",
    "  axH.set_ylim(-1, 1)\n",
    "  axH.set_ylabel(\"ALTURA\")\n",
    "  axH.set_xlabel(\"Posición en la cuerda\")\n",
    "  axH.set_title(\"Movimiento de la cuerda\")\n",
    "\n",
    "def animateH(i):\n",
    "  del axH.lines[:]\n",
    "  axH.plot(xH, HipH[i], color=\"blue\", label=\"aprox. $t = {0:.2f}$ seg.\".format(tH[i]))\n",
    "  axH.legend()\n",
    "  \n",
    "animation.FuncAnimation(figH, animateH, init_func=initH, frames=21, interval=120, repeat=True)"
   ]
  },
  {
   "cell_type": "markdown",
   "metadata": {},
   "source": [
    "## 3) EDP Elipticas\n",
    "---"
   ]
  },
  {
   "cell_type": "markdown",
   "metadata": {},
   "source": [
    "Se va a considerar la ecuacion diferencial parcial de Poisson, dada por la ecuacion diferencial:\n",
    "$$\\nabla ^2 U(x,y) = \\frac{\\partial^2 U}{\\partial^2 x} (x,y) + \\frac{\\partial ^2 U}{\\partial y^2} (x,y) = f(x,y)$$\n",
    "$ \\text{ Sobre  } R= \\{ (x,y) \\text{  |  } a < x < b , c < y < d\\} $\n",
    "\n",
    "$\\text{ Con  } U(x,y) = g(x,y), \\text{  para  } (x,y) \\in S \\text{, donde S denota la frontera de R.} $"
   ]
  },
  {
   "cell_type": "markdown",
   "metadata": {},
   "source": [
    "### - Ecuacion de Laplace: \n",
    "---\n",
    "Por otro lado, el estudio de distribuciones de calor estables en una region plana requiere que en la ecuacion de Poisson se tome $f(x,y) = 0$, resulta en una simplificacion llamada Ecuacion de Laplace: $$\\nabla ^2 U(x,y) = \\frac{\\partial^2 U}{\\partial^2 x} (x,y) + \\frac{\\partial ^2 U}{\\partial y^2} (x,y) = 0$$"
   ]
  },
  {
   "cell_type": "markdown",
   "metadata": {},
   "source": [
    "#### - Metodo de diferencias finitas: \n",
    "En la forma de ecuaciones en diferencias, se obtiene el metodo de diferencias finitas: \n",
    "$$2\\left[ \\left( \\frac{h}{k} \\right)^2 + 1 \\right] w_{ij} - (w_{i+1,j} + w_{i-1,j}) - \\left(\\frac{h}{k}\\right)(w_{i,j+1} + w_{i,j-1}) = h^2 f(x_i,y_i)$$\n",
    "\n",
    "Para cada $i = 1,2 \\dots n-1$ y $ j = 1, 2, \\dots m-1$, y adem\\'as: \n",
    "$$w_{0j} = g(x_0,y_j) \\text{  -  } w_{nj} = g(x_n,y_j) \\text{  para cada  } j = 0, 1, \\dots m$$\n",
    "$$w_{i0} = g(x_i,y_0) \\text{  -  } w_{im} = g(x_i,y_m) \\text{  para cada  } i = 1, 2, \\dots m-1$$\n",
    "\n",
    "Donde los $w_{ij}$ aproximan los $U(x_i, y_j)$"
   ]
  },
  {
   "cell_type": "markdown",
   "metadata": {},
   "source": [
    "Se obtiene una matriz tridiagonal de la forma: \n",
    "\n",
    "$$\n",
    "\\begin{bmatrix}\n",
    "M & E & 0 &  & & \\dots &0 \\\\\n",
    "E & M & E & 0 &  &\\dots & 0\\\\\n",
    "0 & E & M & E & 0 & \\dots & 0 \\\\\n",
    "  &    & \\ddots & \\ddots & \\ddots & \\dots & 0 \\\\\n",
    " & & & & E & M & E\\\\\n",
    " & & & & 0 & E & M\n",
    "\\end{bmatrix}\n",
    "$$\n",
    "\n",
    "Donde: \n",
    "\n",
    "$ M = \n",
    "\\begin{bmatrix}\n",
    "-2(1+\\lambda) & 1 & & & & \\dots & 0 \\\\\n",
    " 1 & -2(1+\\lambda) & 1 & & & \\dots & 0 \\\\\n",
    "0 & 1 & -2(1+\\lambda) & 1 & & \\dots & 0 \\\\\n",
    "  & & \\ddots & \\ddots & & \\dots & 0 \\\\\n",
    "  & & & & &  & 1 \\\\\n",
    "  & & & & &  1 & -2(1+\\lambda)\n",
    "\\end{bmatrix}\n",
    "$\n",
    ",\n",
    "$\n",
    "E = \n",
    "\\begin{bmatrix}\n",
    "\\lambda & & & & & & \\\\\n",
    "& \\lambda & & & & & \\\\\n",
    "& & \\lambda & & & & \\\\\n",
    "& & & \\ddots & & & \\\\\n",
    "& & & & & \\lambda & \\\\\n",
    "& & & & & &\\lambda \\\\\n",
    "\\end{bmatrix}\n",
    "$"
   ]
  },
  {
   "cell_type": "markdown",
   "metadata": {},
   "source": [
    "#### - Ejemplo 1 (Burden - pag 718)\n",
    "Vamos a resolver un ejemplo para la ecuacion de Laplace: \n",
    "\n",
    "$$\\frac{\\partial^2 U}{\\partial^2 x} (x,y) + \\frac{\\partial ^2 U}{\\partial y^2} (x,y) = 0$$\n",
    "$ \\text{ Sobre  } R= \\{ (x,y) \\text{  |  } 0 < x < 0.5 , 0 < y < 0.5\\} $\n",
    "\n",
    "Sujeta a las condiciones frontera:\n",
    "\n",
    "$$U(0,y) = 0, U(x,0) = 0 , U(x,0.5) = 200x , U(0.5,y) = 200y$$"
   ]
  },
  {
   "cell_type": "markdown",
   "metadata": {},
   "source": [
    "### - Implementacion en Python"
   ]
  },
  {
   "cell_type": "markdown",
   "metadata": {},
   "source": [
    "$$f(x, y) \\text{ : Funcion (0 : Laplace, $\\neq$ 0 : Poisson)} $$\n",
    "$$L_l \\text{ : Limite izquierdo} $$\n",
    "$$L_r \\text{ : Limite derecho} $$\n",
    "$$L_i \\text{ : Limite inferior} $$\n",
    "$$L_u \\text{ : Limite superior} $$"
   ]
  },
  {
   "cell_type": "code",
   "execution_count": null,
   "metadata": {},
   "outputs": [],
   "source": [
    "\n",
    "def EDP_Eliptica_Mat(a, b, c, d, h, k, f, L_l, L_r, L_i, L_u):\n",
    "    \n",
    "    r = (h**2)/k**2\n",
    "\n",
    "    n = round((b-a)/h) + 1\n",
    "    m = round((d-c)/k) + 1\n",
    "\n",
    "    x = np.linspace(a , b, n);\n",
    "    y = np.linspace(c , d, m);\n",
    "\n",
    "    p = (n-2)*(m-2)\n",
    "     \n",
    "    C = tridiag(r, -2*(1+r), r, n-2)\n",
    "\n",
    "    A = np.kron(np.eye(m-2), C)\n",
    "    \n",
    "    np.fill_diagonal(A[:(p-(n-2)),(n-2):],r)\n",
    "\n",
    "    np.fill_diagonal(A[(n-2):,:(p-(n-2))],r)\n",
    "\n",
    "    xx,yy = np.meshgrid(x[1:-1],y[1:-1])\n",
    "    \n",
    "    B = np.zeros((m-2,n-2))\n",
    "    \n",
    "    for i in range(m-2):\n",
    "        for j in range(n-2):\n",
    "            B[i,j] = (h**2) * f(x[j+1], y[-(i+2)]) \n",
    "\n",
    "    for i in range(m-2):  \n",
    "        B[i,0] -= L_l( y[-(i+2)] )\n",
    "        B[i,-1] -= L_r( y[-(i+2)] )         \n",
    "\n",
    "    for j in range(n-2):\n",
    "        B[0,j] -= r*L_u(x[j+1])\n",
    "        B[-1,j] -= r*L_i(x[j+1]) \n",
    "    \n",
    "    B = np.reshape(B, np.size(B))\n",
    "\n",
    "    W = np.linalg.solve(A, B)\n",
    "    W1 = W\n",
    "    \n",
    "\n",
    "    sol = np.zeros((m,n))\n",
    "\n",
    "    sol[0,:]  = [L_u(i) for i in x]\n",
    "    sol[-1,:] = [L_i(i) for i in x]\n",
    "    sol[:,0]  = [L_l(i) for i in y]\n",
    "    sol[:,-1] = [L_r(i) for i in y]\n",
    "\n",
    "    W = np.reshape(W, (m-2,n-2) )    \n",
    "\n",
    "    sol[1:-1,1:-1] = W\n",
    "\n",
    "    return sol, W1, x, y"
   ]
  },
  {
   "cell_type": "markdown",
   "metadata": {},
   "source": [
    "#### - Los datos para el problema:"
   ]
  },
  {
   "cell_type": "code",
   "execution_count": null,
   "metadata": {},
   "outputs": [],
   "source": [
    "Mat8, VecE, xE, yE = EDP_Eliptica_Mat(0, 0.5, 0, 0.5, 0.125, 0.125, lambda x, y: 0, lambda x: 0, lambda x: 200*x,lambda x: 0, lambda x: 200*x)\n"
   ]
  },
  {
   "cell_type": "markdown",
   "metadata": {},
   "source": [
    "#### - Seleccionando los puntos de interseccion interiores del mallado: "
   ]
  },
  {
   "cell_type": "code",
   "execution_count": null,
   "metadata": {},
   "outputs": [],
   "source": [
    "n = len(xE)\n",
    "m = len(yE)\n",
    "Xp = []\n",
    "Yp = []\n",
    "for i in range(1,n-1):\n",
    "    for j in range(1,m-1):\n",
    "        Xp.append(xE[i])\n",
    "        Yp.append(yE[j])\n",
    "        "
   ]
  },
  {
   "cell_type": "markdown",
   "metadata": {},
   "source": [
    "#### - Solucion Exacta: \n",
    "En este caso el error es 0, ya que la solucion exacta es $400xy$, que nos da $\\displaystyle \\frac{\\partial^2 U}{\\partial^2 x} (x,y) + \\frac{\\partial ^2 U}{\\partial y^2} (x,y) = 0$"
   ]
  },
  {
   "cell_type": "code",
   "execution_count": null,
   "metadata": {},
   "outputs": [],
   "source": [
    "def ExactaE(x,y):\n",
    "    n = len(x)\n",
    "    sol = []\n",
    "    for i in range(n):\n",
    "        sol.append(400*x[i]*y[i])\n",
    "        \n",
    "    return sol\n",
    "asdj= ExactaE(Xp, Yp)"
   ]
  },
  {
   "cell_type": "code",
   "execution_count": null,
   "metadata": {},
   "outputs": [],
   "source": [
    "dE = {'x':Xp, 'y':Yp, 'Aproximacion': VecE }\n",
    "dE = pd.DataFrame(data=dE)\n",
    "dE = dE[['x','y','Aproximacion']]\n",
    "dE"
   ]
  },
  {
   "cell_type": "markdown",
   "metadata": {},
   "source": [
    "#### - Ejemplo 2 (Burden - pag 722)\n",
    "En este ejemplo, resolveremos la ecuacion de Poisson para $f(x,y) \\neq 0$\n",
    "\n",
    "$$\\frac{\\partial^2 U}{\\partial^2 x} (x,t) + \\frac{\\partial ^2 U}{\\partial y^2} (x,t) = xe^y \\text{ , } 0 < x <2 \\text{ , } 0 < y < 1$$\n",
    "\n",
    "Con las condiciones frontera: \n",
    "\n",
    "$$U(0,y)= 0   \\text{ , } U(2,y) = 2e^y \\text{ , } 0 < y < 1$$\n",
    "$$U(x,0)= x   \\text{ , } U(x,1) = ex \\text{ , } 0 < x < 2$$"
   ]
  },
  {
   "cell_type": "markdown",
   "metadata": {},
   "source": [
    "#### - Los datos para el problema:"
   ]
  },
  {
   "cell_type": "code",
   "execution_count": null,
   "metadata": {},
   "outputs": [],
   "source": [
    "Mat9, VecE2, xE2, yE2 = EDP_Eliptica_Mat(0,2,0,1,2/6,0.2,lambda x,y: x*np.exp(y),lambda x:0, lambda x: 2*np.exp(x),lambda x: x, lambda x:np.exp(1)*x)"
   ]
  },
  {
   "cell_type": "code",
   "execution_count": null,
   "metadata": {},
   "outputs": [],
   "source": [
    "n = len(xE2)\n",
    "m = len(yE2)\n",
    "Xp2 = []\n",
    "Yp2 = []\n",
    "for i in range(1,n-1):\n",
    "    for j in range(1,m-1):\n",
    "        Xp2.append(xE2[i])\n",
    "        Yp2.append(yE2[j])"
   ]
  },
  {
   "cell_type": "markdown",
   "metadata": {},
   "source": [
    "#### - Solucion exacta: \n",
    "Para: $\\displaystyle U(x,y) = x e^y$"
   ]
  },
  {
   "cell_type": "code",
   "execution_count": null,
   "metadata": {},
   "outputs": [],
   "source": [
    "def ExactaE(x,y):\n",
    "    n = len(x)\n",
    "    sol = []\n",
    "    for i in range(n):\n",
    "        sol.append(x[i]*np.exp(y[i]))\n",
    "        \n",
    "    return sol\n",
    "asdj2= ExactaE(Xp2, Yp2)"
   ]
  },
  {
   "cell_type": "markdown",
   "metadata": {},
   "source": [
    "#### - Hallando el error: "
   ]
  },
  {
   "cell_type": "code",
   "execution_count": null,
   "metadata": {},
   "outputs": [],
   "source": [
    "ErrorE2 = ErrorAb(asdj2,VecE2)"
   ]
  },
  {
   "cell_type": "code",
   "execution_count": null,
   "metadata": {},
   "outputs": [],
   "source": [
    "dE2 = {'x':Xp2, 'y':Yp2, 'Aproximacion': VecE2,'Error':ErrorE2,'Exacta':asdj2}\n",
    "dE2 = pd.DataFrame(data=dE2)\n",
    "dE2 = dE2[['x','y','Aproximacion','Exacta', 'Error']]\n",
    "dE2"
   ]
  },
  {
   "cell_type": "markdown",
   "metadata": {},
   "source": [
    "#### OJO: aca se nota un error muy grande ya que yo estoy usando el metodo matricial (el cual no es recomendado para mallados muy grandes) y en el libro usan el metodo iterativo."
   ]
  },
  {
   "cell_type": "code",
   "execution_count": null,
   "metadata": {},
   "outputs": [],
   "source": []
  }
 ],
 "metadata": {
  "kernelspec": {
   "display_name": "Python 3",
   "language": "python",
   "name": "python3"
  },
  "language_info": {
   "codemirror_mode": {
    "name": "ipython",
    "version": 3
   },
   "file_extension": ".py",
   "mimetype": "text/x-python",
   "name": "python",
   "nbconvert_exporter": "python",
   "pygments_lexer": "ipython3",
   "version": "3.6.4"
  }
 },
 "nbformat": 4,
 "nbformat_minor": 2
}
