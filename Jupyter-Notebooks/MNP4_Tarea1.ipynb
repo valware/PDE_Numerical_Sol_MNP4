{
 "cells": [
  {
   "cell_type": "markdown",
   "metadata": {},
   "source": [
    "# METODOS NUMERICOS Y PROGRAMACION 4\n",
    "## Tarea 3\n",
    "### Problemas 15, 16 de la lista de problemas. (Lista123_EDParabolicas.docx)\n",
    "##### Daniel Valencia - Computacion Cientifica - 2018-1\n",
    "---"
   ]
  },
  {
   "cell_type": "markdown",
   "metadata": {},
   "source": [
    "# Solucion numerica de EDPs\n",
    "---"
   ]
  },
  {
   "cell_type": "code",
   "execution_count": 1,
   "metadata": {},
   "outputs": [],
   "source": [
    "import numpy as np\n",
    "from matplotlib import pyplot as plt\n",
    "import pandas as pd\n",
    "import matplotlib.animation as animation\n",
    "from matplotlib import rc\n",
    "rc('animation', html='jshtml')"
   ]
  },
  {
   "cell_type": "markdown",
   "metadata": {},
   "source": [
    "#### Usando las variables: \n",
    "<ul>\n",
    "    <li> c: Difusividad termica.</li>\n",
    "    <li> L: Longitud de la barra.</li>\n",
    "    <li> T: Tiempo final.</li>\n",
    "    <li> h: Step-size que divide a la barra. </li>\n",
    "    <li> k: Step-size que divide al tiempo.</li>\n",
    "    <li> f: Condicion inicial U(x,0) = f(x).</li>\n",
    "    <li> a: Condicion inicial de frontera en U(0,t).</li>\n",
    "    <li> b: Condicion inicial de frontera en U(l,t).</li>\n",
    "</ul>"
   ]
  },
  {
   "cell_type": "code",
   "execution_count": 2,
   "metadata": {},
   "outputs": [],
   "source": [
    "def tridiag(a,b,c,N):\n",
    "    A = np.zeros((N,N))\n",
    "    \n",
    "    np.fill_diagonal(A[:-1,1:],a)\n",
    "    np.fill_diagonal(A,b)\n",
    "    np.fill_diagonal(A[1:,:-1],c)\n",
    "    \n",
    "    return A"
   ]
  },
  {
   "cell_type": "markdown",
   "metadata": {},
   "source": [
    "#### - Implementacion en Python: "
   ]
  },
  {
   "cell_type": "code",
   "execution_count": 3,
   "metadata": {},
   "outputs": [],
   "source": [
    "def EDP_CN_Matricial(c, L, T, h, k, f, a, b):\n",
    "    \n",
    "    r = c*k/h**2\n",
    "    m = round(L/h) + 1\n",
    "    n = round(T/k) + 1\n",
    "    \n",
    "    x = np.linspace(0, L, m)\n",
    "    \n",
    "    w = np.zeros((n,m))\n",
    "    w[0] = f(x)\n",
    "    w[:,0] = a(0) \n",
    "    w[:,-1] = b(L)\n",
    "    \n",
    "    A = tridiag(-r/2, 1+r, -r/2, m-2)\n",
    "    B = tridiag(r/2, 1-r, r/2, m-2)\n",
    "\n",
    "         \n",
    "    A_inv = np.linalg.inv(A)\n",
    "\n",
    "\n",
    "    for i in range(n-1):\n",
    "        \n",
    "        C = np.dot(B, w[i,1:-1])\n",
    "        C[0]  += r/2*(w[i+1,0]  + w[i,0])\n",
    "        C[-1] += r/2*(w[i+1,-1] + w[i,-1])\n",
    "\n",
    "        w[i+1,1:-1] = np.dot(A_inv, C)\n",
    "    \n",
    "    return w, x"
   ]
  },
  {
   "cell_type": "markdown",
   "metadata": {},
   "source": [
    "#### - Error absoluto: "
   ]
  },
  {
   "cell_type": "code",
   "execution_count": 4,
   "metadata": {},
   "outputs": [],
   "source": [
    "def ErrorAb(a,b):\n",
    "    n = len(a)\n",
    "    c = []\n",
    "    for i in range(n):\n",
    "        c.append(np.absolute(a[i] - b[i]))\n",
    "    return c"
   ]
  },
  {
   "cell_type": "markdown",
   "metadata": {},
   "source": [
    "### Problema 15: \n",
    "---\n",
    "\n",
    "Resuelva el siguiente problema por Crank - Nicolson: \n",
    "\n",
    "$$\\frac{\\partial U}{\\partial t} (x,t)  - 0.01\\frac{\\partial ^2 U}{\\partial x^2} (x,t)  = 0 $$\n",
    "Con las condiciones frontera: \n",
    "$$U(0,t) = U(l,t) = 0 \\text{  ,  } 0 < t$$\n",
    "Y las condiciones iniciales: \n",
    "$$U(x,0) = sin(3 \\pi x) \\text{  ,  } x \\in [0,1]$$\n",
    "El tiempo final $T=0.3$ , con $h=0.1$ y $k=0.1$"
   ]
  },
  {
   "cell_type": "markdown",
   "metadata": {},
   "source": [
    "#### - Los datos del problema: "
   ]
  },
  {
   "cell_type": "code",
   "execution_count": 5,
   "metadata": {},
   "outputs": [],
   "source": [
    "Mat1, x1 = EDP_CN_Matricial(0.1, 1, 0.3, 0.1, 0.01, lambda x: np.sin(3*np.pi * x), lambda x: 0, lambda x:0)"
   ]
  },
  {
   "cell_type": "code",
   "execution_count": 7,
   "metadata": {},
   "outputs": [
    {
     "data": {
      "text/html": [
       "<div>\n",
       "<style scoped>\n",
       "    .dataframe tbody tr th:only-of-type {\n",
       "        vertical-align: middle;\n",
       "    }\n",
       "\n",
       "    .dataframe tbody tr th {\n",
       "        vertical-align: top;\n",
       "    }\n",
       "\n",
       "    .dataframe thead th {\n",
       "        text-align: right;\n",
       "    }\n",
       "</style>\n",
       "<table border=\"1\" class=\"dataframe\">\n",
       "  <thead>\n",
       "    <tr style=\"text-align: right;\">\n",
       "      <th></th>\n",
       "      <th>x</th>\n",
       "      <th>Aproximacion</th>\n",
       "    </tr>\n",
       "  </thead>\n",
       "  <tbody>\n",
       "    <tr>\n",
       "      <th>0</th>\n",
       "      <td>0.0</td>\n",
       "      <td>0.000000</td>\n",
       "    </tr>\n",
       "    <tr>\n",
       "      <th>1</th>\n",
       "      <td>0.1</td>\n",
       "      <td>0.068110</td>\n",
       "    </tr>\n",
       "    <tr>\n",
       "      <th>2</th>\n",
       "      <td>0.2</td>\n",
       "      <td>0.080069</td>\n",
       "    </tr>\n",
       "    <tr>\n",
       "      <th>3</th>\n",
       "      <td>0.3</td>\n",
       "      <td>0.026016</td>\n",
       "    </tr>\n",
       "    <tr>\n",
       "      <th>4</th>\n",
       "      <td>0.4</td>\n",
       "      <td>-0.049485</td>\n",
       "    </tr>\n",
       "    <tr>\n",
       "      <th>5</th>\n",
       "      <td>0.5</td>\n",
       "      <td>-0.084189</td>\n",
       "    </tr>\n",
       "    <tr>\n",
       "      <th>6</th>\n",
       "      <td>0.6</td>\n",
       "      <td>-0.049485</td>\n",
       "    </tr>\n",
       "    <tr>\n",
       "      <th>7</th>\n",
       "      <td>0.7</td>\n",
       "      <td>0.026016</td>\n",
       "    </tr>\n",
       "    <tr>\n",
       "      <th>8</th>\n",
       "      <td>0.8</td>\n",
       "      <td>0.080069</td>\n",
       "    </tr>\n",
       "    <tr>\n",
       "      <th>9</th>\n",
       "      <td>0.9</td>\n",
       "      <td>0.068110</td>\n",
       "    </tr>\n",
       "    <tr>\n",
       "      <th>10</th>\n",
       "      <td>1.0</td>\n",
       "      <td>0.000000</td>\n",
       "    </tr>\n",
       "  </tbody>\n",
       "</table>\n",
       "</div>"
      ],
      "text/plain": [
       "      x  Aproximacion\n",
       "0   0.0      0.000000\n",
       "1   0.1      0.068110\n",
       "2   0.2      0.080069\n",
       "3   0.3      0.026016\n",
       "4   0.4     -0.049485\n",
       "5   0.5     -0.084189\n",
       "6   0.6     -0.049485\n",
       "7   0.7      0.026016\n",
       "8   0.8      0.080069\n",
       "9   0.9      0.068110\n",
       "10  1.0      0.000000"
      ]
     },
     "execution_count": 7,
     "metadata": {},
     "output_type": "execute_result"
    }
   ],
   "source": [
    "d1 = {'x': x1, 'Aproximacion': Mat1[-1]}\n",
    "df1 = pd.DataFrame(data=d1)\n",
    "df1 = df1[['x','Aproximacion']]\n",
    "df1"
   ]
  },
  {
   "cell_type": "markdown",
   "metadata": {},
   "source": [
    "### Problema 16\n",
    "---\n",
    "Muestre el comportamiento de la temperatura de la varilla del problema 8 en su punto medio a traves del tiempo, elija, segun su criterio, el numero de nodos en ambas variables.\n",
    "\n",
    "#### El enunciado del problema 8 es: \n",
    "\n",
    "Resolver el siguiente problema: \n",
    "\n",
    "$$\\frac{\\partial U}{\\partial t} (x,t)  = 0.9\\frac{\\partial ^2 U}{\\partial x^2} (x,t) $$\n",
    "Con las condiciones frontera: \n",
    "$$U(0,t) = U(l,t) = 0 \\text{  ,  } t \\in \\langle 0, T]$$\n",
    "Y las condiciones iniciales: \n",
    "$$U(x,0) = sen(\\pi x) \\text{  ,  } x \\in [0,1]$$\n",
    "El tiempo final $T=0.3$ , con $h=0.1$ y $k=0.1$. Usar el metodo explicito, es buena la aproximacion?\n",
    "\n",
    "Considere la solucion analitica: $\\displaystyle U(x,t) = e^{-0.9\\pi ^2 t}sen(\\pi x)$"
   ]
  },
  {
   "cell_type": "markdown",
   "metadata": {},
   "source": [
    "#### Implementacion en Python, metodo explicito: "
   ]
  },
  {
   "cell_type": "code",
   "execution_count": 19,
   "metadata": {},
   "outputs": [],
   "source": [
    "def EDP_Exp_Matricial(c, L, T, h, k, f, a, b):\n",
    "    \n",
    "    r = c*k/h**2\n",
    "    m = round(L/h) + 1\n",
    "    n = round(T/k) + 1\n",
    "    \n",
    "    x = np.linspace(0, L, m)\n",
    "    t = np.linspace(0, T, n)\n",
    "    \n",
    "    w = np.zeros((n,m))\n",
    "    w[0] = f(x)\n",
    "    w[:,0] = a(0) \n",
    "    w[:,-1] = b(L)\n",
    "    \n",
    "    W = tridiag(r, 1-2*r, r, m-2) \n",
    "    \n",
    "    for i in range(n-1):\n",
    "        w[i+1,1:-1] = np.dot(W, w[i,1:-1])\n",
    "        w[i+1,1] += r*w[i,0]\n",
    "        w[i+1,-2] += r*w[i,-1]\n",
    "        \n",
    "    return w,x,t"
   ]
  },
  {
   "cell_type": "markdown",
   "metadata": {},
   "source": [
    "#### Solucion exacta: "
   ]
  },
  {
   "cell_type": "code",
   "execution_count": 20,
   "metadata": {},
   "outputs": [],
   "source": [
    "def Exacta(x,t):\n",
    "    n = len(x)\n",
    "    sol = []\n",
    "    for i in range(n):\n",
    "        sol.append((np.exp(-0.9*(np.pi**2)*(t)))*np.sin(np.pi*x[i]))\n",
    "    return sol"
   ]
  },
  {
   "cell_type": "markdown",
   "metadata": {},
   "source": [
    "#### Los datos para el ejemplo: "
   ]
  },
  {
   "cell_type": "code",
   "execution_count": 21,
   "metadata": {},
   "outputs": [
    {
     "data": {
      "text/html": [
       "<div>\n",
       "<style scoped>\n",
       "    .dataframe tbody tr th:only-of-type {\n",
       "        vertical-align: middle;\n",
       "    }\n",
       "\n",
       "    .dataframe tbody tr th {\n",
       "        vertical-align: top;\n",
       "    }\n",
       "\n",
       "    .dataframe thead th {\n",
       "        text-align: right;\n",
       "    }\n",
       "</style>\n",
       "<table border=\"1\" class=\"dataframe\">\n",
       "  <thead>\n",
       "    <tr style=\"text-align: right;\">\n",
       "      <th></th>\n",
       "      <th>x</th>\n",
       "      <th>Aproximacion</th>\n",
       "      <th>Exacta</th>\n",
       "      <th>Error</th>\n",
       "    </tr>\n",
       "  </thead>\n",
       "  <tbody>\n",
       "    <tr>\n",
       "      <th>0</th>\n",
       "      <td>0.0</td>\n",
       "      <td>0.000000</td>\n",
       "      <td>0.000000e+00</td>\n",
       "      <td>0.000000e+00</td>\n",
       "    </tr>\n",
       "    <tr>\n",
       "      <th>1</th>\n",
       "      <td>0.1</td>\n",
       "      <td>0.021859</td>\n",
       "      <td>3.640330e-03</td>\n",
       "      <td>1.821861e-02</td>\n",
       "    </tr>\n",
       "    <tr>\n",
       "      <th>2</th>\n",
       "      <td>0.2</td>\n",
       "      <td>0.041578</td>\n",
       "      <td>6.924319e-03</td>\n",
       "      <td>3.465386e-02</td>\n",
       "    </tr>\n",
       "    <tr>\n",
       "      <th>3</th>\n",
       "      <td>0.3</td>\n",
       "      <td>0.057227</td>\n",
       "      <td>9.530507e-03</td>\n",
       "      <td>4.769694e-02</td>\n",
       "    </tr>\n",
       "    <tr>\n",
       "      <th>4</th>\n",
       "      <td>0.4</td>\n",
       "      <td>0.067275</td>\n",
       "      <td>1.120378e-02</td>\n",
       "      <td>5.607112e-02</td>\n",
       "    </tr>\n",
       "    <tr>\n",
       "      <th>5</th>\n",
       "      <td>0.5</td>\n",
       "      <td>0.070737</td>\n",
       "      <td>1.178035e-02</td>\n",
       "      <td>5.895666e-02</td>\n",
       "    </tr>\n",
       "    <tr>\n",
       "      <th>6</th>\n",
       "      <td>0.6</td>\n",
       "      <td>0.067275</td>\n",
       "      <td>1.120378e-02</td>\n",
       "      <td>5.607112e-02</td>\n",
       "    </tr>\n",
       "    <tr>\n",
       "      <th>7</th>\n",
       "      <td>0.7</td>\n",
       "      <td>0.057227</td>\n",
       "      <td>9.530507e-03</td>\n",
       "      <td>4.769694e-02</td>\n",
       "    </tr>\n",
       "    <tr>\n",
       "      <th>8</th>\n",
       "      <td>0.8</td>\n",
       "      <td>0.041578</td>\n",
       "      <td>6.924319e-03</td>\n",
       "      <td>3.465386e-02</td>\n",
       "    </tr>\n",
       "    <tr>\n",
       "      <th>9</th>\n",
       "      <td>0.9</td>\n",
       "      <td>0.021859</td>\n",
       "      <td>3.640330e-03</td>\n",
       "      <td>1.821861e-02</td>\n",
       "    </tr>\n",
       "    <tr>\n",
       "      <th>10</th>\n",
       "      <td>1.0</td>\n",
       "      <td>0.000000</td>\n",
       "      <td>1.442677e-18</td>\n",
       "      <td>1.442677e-18</td>\n",
       "    </tr>\n",
       "  </tbody>\n",
       "</table>\n",
       "</div>"
      ],
      "text/plain": [
       "      x  Aproximacion        Exacta         Error\n",
       "0   0.0      0.000000  0.000000e+00  0.000000e+00\n",
       "1   0.1      0.021859  3.640330e-03  1.821861e-02\n",
       "2   0.2      0.041578  6.924319e-03  3.465386e-02\n",
       "3   0.3      0.057227  9.530507e-03  4.769694e-02\n",
       "4   0.4      0.067275  1.120378e-02  5.607112e-02\n",
       "5   0.5      0.070737  1.178035e-02  5.895666e-02\n",
       "6   0.6      0.067275  1.120378e-02  5.607112e-02\n",
       "7   0.7      0.057227  9.530507e-03  4.769694e-02\n",
       "8   0.8      0.041578  6.924319e-03  3.465386e-02\n",
       "9   0.9      0.021859  3.640330e-03  1.821861e-02\n",
       "10  1.0      0.000000  1.442677e-18  1.442677e-18"
      ]
     },
     "execution_count": 21,
     "metadata": {},
     "output_type": "execute_result"
    }
   ],
   "source": [
    "Mat2, x2, t2 = EDP_Exp_Matricial(0.9, 1, 0.3, 0.1, 0.0005, lambda x: np.sin(np.pi * x), lambda x: 0, lambda x:0)\n",
    "\n",
    "Exa2 = Exacta(x2,0.5)\n",
    "Err2 = ErrorAb(Mat2[-1],Exa2)\n",
    "d2 = {'x': x2, 'Aproximacion': Mat2[-1], 'Exacta': Exa2, 'Error': Err2}\n",
    "df2 = pd.DataFrame(data=d2)\n",
    "df2 = df2[['x','Aproximacion','Exacta','Error']]\n",
    "df2"
   ]
  },
  {
   "cell_type": "markdown",
   "metadata": {},
   "source": [
    "#### Dado el analisis del error se puede decir que es una buena aproximacion."
   ]
  },
  {
   "cell_type": "code",
   "execution_count": 33,
   "metadata": {},
   "outputs": [
    {
     "data": {
      "text/plain": [
       "Text(0.5,0,'Variacion del tiempo hasta T')"
      ]
     },
     "execution_count": 33,
     "metadata": {},
     "output_type": "execute_result"
    },
    {
     "data": {
      "image/png": "[encoded data removed]",
      "text/plain": [
       "<matplotlib.figure.Figure at 0x7f90dfdf8588>"
      ]
     },
     "metadata": {},
     "output_type": "display_data"
    }
   ],
   "source": [
    "plt.plot(t2, Mat2[:,5])\n",
    "plt.title(\"Grafico problema 16\")\n",
    "plt.ylabel(\"Variacion del calor en el punto medio de la varilla\")\n",
    "plt.xlabel(\"Variacion del tiempo hasta T\")"
   ]
  },
  {
   "cell_type": "code",
   "execution_count": null,
   "metadata": {},
   "outputs": [],
   "source": []
  },
  {
   "cell_type": "code",
   "execution_count": null,
   "metadata": {},
   "outputs": [],
   "source": []
  }
 ],
 "metadata": {
  "kernelspec": {
   "display_name": "Python 3",
   "language": "python",
   "name": "python3"
  },
  "language_info": {
   "codemirror_mode": {
    "name": "ipython",
    "version": 3
   },
   "file_extension": ".py",
   "mimetype": "text/x-python",
   "name": "python",
   "nbconvert_exporter": "python",
   "pygments_lexer": "ipython3",
   "version": "3.6.4"
  }
 },
 "nbformat": 4,
 "nbformat_minor": 2
}
