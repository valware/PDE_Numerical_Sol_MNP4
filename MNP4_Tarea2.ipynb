{
 "cells": [
  {
   "cell_type": "markdown",
   "metadata": {},
   "source": [
    "# METODOS NUMERICOS Y PROGRAMACION 4\n",
    "## Tarea 2\n",
    "##### Daniel Valencia - Computacion Cientifica - 2018-1\n",
    "---"
   ]
  },
  {
   "cell_type": "markdown",
   "metadata": {},
   "source": [
    "## Solucion numerica de EDPs"
   ]
  },
  {
   "cell_type": "markdown",
   "metadata": {},
   "source": [
    "<ol>\n",
    "    <li> Ecuaciones Parabolicas \n",
    "        <ul>\n",
    "            <li> Metodo Explicito </li>\n",
    "            <li> Metodo Implicitod </li>\n",
    "            <li> Metodo Crank - Nicolson </li>\n",
    "        </ul>\n",
    "    </li>\n",
    "</ol>"
   ]
  },
  {
   "cell_type": "code",
   "execution_count": 1,
   "metadata": {},
   "outputs": [],
   "source": [
    "import numpy as np\n",
    "from matplotlib import pyplot as plt\n",
    "import pandas as pd\n",
    "import matplotlib.animation as animation\n",
    "from matplotlib import rc\n",
    "rc('animation', html='jshtml')"
   ]
  },
  {
   "cell_type": "markdown",
   "metadata": {},
   "source": [
    "#### A partir de ahora se usaran las siguientes variables para los metodos\n",
    "<ul>\n",
    "    <li> c: Difusividad termica.</li>\n",
    "    <li> L: Longitud de la barra.</li>\n",
    "    <li> T: Tiempo final.</li>\n",
    "    <li> h: Step-size que divide a la barra. </li>\n",
    "    <li> k: Step-size que divide al tiempo.</li>\n",
    "    <li> f: Condicion inicial U(x,0) = f(x).</li>\n",
    "    <li> a: Condicion inicial de frontera en U(0,t).</li>\n",
    "    <li> b: Condicion inicial de frontera en U(l,t).</li>\n",
    "</ul>"
   ]
  },
  {
   "cell_type": "code",
   "execution_count": 2,
   "metadata": {},
   "outputs": [],
   "source": [
    "def tridiag(a,b,c,N):\n",
    "    A = np.zeros((N,N))\n",
    "    \n",
    "    np.fill_diagonal(A[:-1,1:],a)\n",
    "    np.fill_diagonal(A,b)\n",
    "    np.fill_diagonal(A[1:,:-1],c)\n",
    "    \n",
    "    return A"
   ]
  },
  {
   "cell_type": "markdown",
   "metadata": {},
   "source": [
    "#### Error absoluto: "
   ]
  },
  {
   "cell_type": "code",
   "execution_count": 3,
   "metadata": {},
   "outputs": [],
   "source": [
    "def ErrorAb(a,b):\n",
    "    n = len(a)\n",
    "    c = []\n",
    "    for i in range(n):\n",
    "        c.append(np.absolute(a[i] - b[i]))\n",
    "    return c"
   ]
  },
  {
   "cell_type": "markdown",
   "metadata": {},
   "source": [
    "### - Implementacion en Python"
   ]
  },
  {
   "cell_type": "code",
   "execution_count": 4,
   "metadata": {},
   "outputs": [],
   "source": [
    "def EDP_Imp_Matricial(c, L, T, h, k, f, a, b):\n",
    "    \n",
    "    r = c*k/h**2\n",
    "    m = round(L/h) + 1\n",
    "    n = round(T/k) + 1\n",
    "    \n",
    "    x = np.linspace(0, L, m)\n",
    "    t = np.linspace(0,T,n)\n",
    "    w = np.zeros((n,m))\n",
    "    w[0] = f(x)\n",
    "    w[:,0] = a(0) \n",
    "    w[:,-1] = b(L)\n",
    "    \n",
    "    W = tridiag(-r, 1+2*r, -r, m-2) \n",
    "\n",
    "    W_inv = np.linalg.inv(W)\n",
    "    \n",
    "    for i in range(n-1):\n",
    "        B = w[i,1:-1].copy() \n",
    "        B[0] += r*w[i,0]\n",
    "        B[-1] += r*w[i,-1]\n",
    "        w[i+1,1:-1] = np.dot(W_inv, B)\n",
    "        \n",
    "    return w,x,t"
   ]
  },
  {
   "cell_type": "markdown",
   "metadata": {},
   "source": [
    "### Ejercicios 1, 2, 3 y 4 del Burden (Pag 736)"
   ]
  },
  {
   "cell_type": "markdown",
   "metadata": {},
   "source": [
    "### - Ejercicio 1:\n",
    "Aproximar la solucion de la siguiente EDP usando el metodo implicito (Diferencias hacia atras): \n",
    "\n",
    "$$\\frac{\\partial U}{\\partial t} (x,t)  - \\frac{\\partial ^2 U}{\\partial x^2} (x,t)  = 0 \\text{  ,  } 0 < x < 2 \\text{  ,  } 0 \\leq t$$\n",
    "Con las condiciones frontera: \n",
    "$$U(0,t) = U(l,t) = 0 \\text{  ,  } 0 < t$$\n",
    "Y las condiciones iniciales: \n",
    "$$U(x,0) = sin\\left(\\frac{\\pi}{2} x \\right) \\text{  ,  } 0 \\leq x \\leq 2$$\n",
    "\n",
    "Usando $m=4$, $T = 0.1$ y $N = 2$. Compare sus resultados con la solucion analitica: $\\displaystyle U(x,t) = e^{-(\\pi^2 / 4)t} sin\\left(\\frac{\\pi}{2} x \\right)$"
   ]
  },
  {
   "cell_type": "markdown",
   "metadata": {},
   "source": [
    "#### - Los datos para el ejemplo: "
   ]
  },
  {
   "cell_type": "code",
   "execution_count": 5,
   "metadata": {},
   "outputs": [],
   "source": [
    "Mat1, x1,t1 = EDP_Imp_Matricial(1, 2, 0.1, 0.5, 0.05, lambda x: np.sin(0.5*x*np.pi), lambda x: 0, lambda x:0)"
   ]
  },
  {
   "cell_type": "markdown",
   "metadata": {},
   "source": [
    "#### - Solucion Exacta: "
   ]
  },
  {
   "cell_type": "code",
   "execution_count": 6,
   "metadata": {},
   "outputs": [],
   "source": [
    "def Exacta(x,t):\n",
    "    n = len(x)\n",
    "    sol = []\n",
    "    for i in range(n):\n",
    "        sol.append(((np.exp((-1)*(np.pi**2)*0.25*t))*np.sin((np.pi)*(0.5)*x[i])))\n",
    "    return sol"
   ]
  },
  {
   "cell_type": "code",
   "execution_count": 7,
   "metadata": {},
   "outputs": [
    {
     "data": {
      "text/html": [
       "<div>\n",
       "<style scoped>\n",
       "    .dataframe tbody tr th:only-of-type {\n",
       "        vertical-align: middle;\n",
       "    }\n",
       "\n",
       "    .dataframe tbody tr th {\n",
       "        vertical-align: top;\n",
       "    }\n",
       "\n",
       "    .dataframe thead th {\n",
       "        text-align: right;\n",
       "    }\n",
       "</style>\n",
       "<table border=\"1\" class=\"dataframe\">\n",
       "  <thead>\n",
       "    <tr style=\"text-align: right;\">\n",
       "      <th></th>\n",
       "      <th>x</th>\n",
       "      <th>Aproximacion</th>\n",
       "      <th>Exacta</th>\n",
       "      <th>Error</th>\n",
       "    </tr>\n",
       "  </thead>\n",
       "  <tbody>\n",
       "    <tr>\n",
       "      <th>0</th>\n",
       "      <td>0.0</td>\n",
       "      <td>0.000000</td>\n",
       "      <td>0.000000e+00</td>\n",
       "      <td>0.000000e+00</td>\n",
       "    </tr>\n",
       "    <tr>\n",
       "      <th>1</th>\n",
       "      <td>0.5</td>\n",
       "      <td>0.566574</td>\n",
       "      <td>6.250375e-01</td>\n",
       "      <td>5.846386e-02</td>\n",
       "    </tr>\n",
       "    <tr>\n",
       "      <th>2</th>\n",
       "      <td>1.0</td>\n",
       "      <td>0.801256</td>\n",
       "      <td>8.839365e-01</td>\n",
       "      <td>8.268039e-02</td>\n",
       "    </tr>\n",
       "    <tr>\n",
       "      <th>3</th>\n",
       "      <td>1.5</td>\n",
       "      <td>0.566574</td>\n",
       "      <td>6.250375e-01</td>\n",
       "      <td>5.846386e-02</td>\n",
       "    </tr>\n",
       "    <tr>\n",
       "      <th>4</th>\n",
       "      <td>2.0</td>\n",
       "      <td>0.000000</td>\n",
       "      <td>1.082510e-16</td>\n",
       "      <td>1.082510e-16</td>\n",
       "    </tr>\n",
       "  </tbody>\n",
       "</table>\n",
       "</div>"
      ],
      "text/plain": [
       "     x  Aproximacion        Exacta         Error\n",
       "0  0.0      0.000000  0.000000e+00  0.000000e+00\n",
       "1  0.5      0.566574  6.250375e-01  5.846386e-02\n",
       "2  1.0      0.801256  8.839365e-01  8.268039e-02\n",
       "3  1.5      0.566574  6.250375e-01  5.846386e-02\n",
       "4  2.0      0.000000  1.082510e-16  1.082510e-16"
      ]
     },
     "execution_count": 7,
     "metadata": {},
     "output_type": "execute_result"
    }
   ],
   "source": [
    "Exa1 = Exacta(x1,0.05)\n",
    "Err1 = ErrorAb(Mat1[-1],Exa1)\n",
    "d1 = {'x': x1 , 'Aproximacion': Mat1[-1], 'Exacta': Exa1, 'Error': Err1}\n",
    "df1 = pd.DataFrame(data=d1)\n",
    "df1 = df1[['x','Aproximacion','Exacta','Error']]\n",
    "df1"
   ]
  },
  {
   "cell_type": "markdown",
   "metadata": {},
   "source": [
    "#### Comparacion con el Burden (pag - 855)\n",
    "El el Burden, a manera de solucion, se tiene la siguiente tabla: \n",
    "    <table>\n",
    "  <tr>\n",
    "    <th> Xi </th>\n",
    "    <th> Wi </th> \n",
    "    <th> U(xi,tj)</th>\n",
    "  </tr>\n",
    "  <tr>\n",
    "    <td>0.5</td>\n",
    "    <td>0.566574</td> \n",
    "    <td>0.552493</td>\n",
    "  </tr>\n",
    "  <tr>\n",
    "    <td>1.0</td>\n",
    "    <td>0.801256</td> \n",
    "    <td>0.781344</td>\n",
    "  </tr>\n",
    "  <tr>\n",
    "    <td>1.5</td>\n",
    "    <td>0.566574</td> \n",
    "    <td>0.552493</td>\n",
    "  </tr>\n",
    "</table>\n",
    "\n",
    "#### Como se puede apreciar, los resultados del algoritmo son iguales a las de las soluciones del libro."
   ]
  },
  {
   "cell_type": "markdown",
   "metadata": {},
   "source": [
    "### - Ejercicio 2:\n",
    "Aproximar la solucion de la siguiente EDP usando el metodo implicito (Diferencias hacia atras): \n",
    "\n",
    "$$\\frac{\\partial U}{\\partial t} (x,t)  - \\frac{1}{16}\\frac{\\partial ^2 U}{\\partial x^2} (x,t)  = 0 \\text{  ,  } 0 < x < 2 \\text{  ,  } 0 \\leq t$$\n",
    "Con las condiciones frontera: \n",
    "$$U(0,t) = U(l,t) = 0 \\text{  ,  } 0 < t$$\n",
    "Y las condiciones iniciales: \n",
    "$$U(x,0) = 2sin(2\\pi x ) \\text{  ,  } 0 \\leq x \\leq 2$$\n",
    "\n",
    "Usando $m=3$, $T = 0.1$ y $N = 2$. Compare sus resultados con la solucion analitica: $ \\displaystyle U(x,t) = 2e^{-(\\pi^2 / 4)t} sin(2 x )$"
   ]
  },
  {
   "cell_type": "markdown",
   "metadata": {},
   "source": [
    "#### Los datos para el ejemplo: "
   ]
  },
  {
   "cell_type": "code",
   "execution_count": 8,
   "metadata": {},
   "outputs": [],
   "source": [
    "Mat2, x2, t2 = EDP_Imp_Matricial(1/4, 2, 0.1, 1/1.5, 0.05, lambda x: 2*np.sin(2*x*np.pi), lambda x: 0, lambda x:0)"
   ]
  },
  {
   "cell_type": "markdown",
   "metadata": {},
   "source": [
    "#### - Solucion exacta: "
   ]
  },
  {
   "cell_type": "code",
   "execution_count": 9,
   "metadata": {},
   "outputs": [],
   "source": [
    "def Exacta2(x,t):\n",
    "    n = len(x)\n",
    "    sol = []\n",
    "    for i in range(n):\n",
    "        sol.append(((2*np.exp((-1)*(np.pi**2)*0.25*t))*np.sin((np.pi)*2*x[i])))\n",
    "    return sol\n",
    "\n",
    "Exa2 = Exacta2(x2,0.05)"
   ]
  },
  {
   "cell_type": "code",
   "execution_count": 10,
   "metadata": {},
   "outputs": [
    {
     "data": {
      "text/html": [
       "<div>\n",
       "<style scoped>\n",
       "    .dataframe tbody tr th:only-of-type {\n",
       "        vertical-align: middle;\n",
       "    }\n",
       "\n",
       "    .dataframe tbody tr th {\n",
       "        vertical-align: top;\n",
       "    }\n",
       "\n",
       "    .dataframe thead th {\n",
       "        text-align: right;\n",
       "    }\n",
       "</style>\n",
       "<table border=\"1\" class=\"dataframe\">\n",
       "  <thead>\n",
       "    <tr style=\"text-align: right;\">\n",
       "      <th></th>\n",
       "      <th>x</th>\n",
       "      <th>Aproximacion</th>\n",
       "      <th>Exacta</th>\n",
       "      <th>Error</th>\n",
       "    </tr>\n",
       "  </thead>\n",
       "  <tbody>\n",
       "    <tr>\n",
       "      <th>0</th>\n",
       "      <td>0.000000</td>\n",
       "      <td>0.000000</td>\n",
       "      <td>0.000000e+00</td>\n",
       "      <td>0.000000e+00</td>\n",
       "    </tr>\n",
       "    <tr>\n",
       "      <th>1</th>\n",
       "      <td>0.666667</td>\n",
       "      <td>-1.472996</td>\n",
       "      <td>-1.531023e+00</td>\n",
       "      <td>5.802670e-02</td>\n",
       "    </tr>\n",
       "    <tr>\n",
       "      <th>2</th>\n",
       "      <td>1.333333</td>\n",
       "      <td>1.472996</td>\n",
       "      <td>1.531023e+00</td>\n",
       "      <td>5.802670e-02</td>\n",
       "    </tr>\n",
       "    <tr>\n",
       "      <th>3</th>\n",
       "      <td>2.000000</td>\n",
       "      <td>0.000000</td>\n",
       "      <td>-8.660080e-16</td>\n",
       "      <td>8.660080e-16</td>\n",
       "    </tr>\n",
       "  </tbody>\n",
       "</table>\n",
       "</div>"
      ],
      "text/plain": [
       "          x  Aproximacion        Exacta         Error\n",
       "0  0.000000      0.000000  0.000000e+00  0.000000e+00\n",
       "1  0.666667     -1.472996 -1.531023e+00  5.802670e-02\n",
       "2  1.333333      1.472996  1.531023e+00  5.802670e-02\n",
       "3  2.000000      0.000000 -8.660080e-16  8.660080e-16"
      ]
     },
     "execution_count": 10,
     "metadata": {},
     "output_type": "execute_result"
    }
   ],
   "source": [
    "Exa2 = Exacta2(x2,0.05)\n",
    "Err2 = ErrorAb(Mat2[-1],Exa2)\n",
    "\n",
    "d2 = {'x': x2 , 'Aproximacion': Mat2[-1], 'Exacta': Exa2, 'Error': Err2}\n",
    "df2 = pd.DataFrame(data=d2)\n",
    "df2 = df2[['x','Aproximacion','Exacta','Error']]\n",
    "df2"
   ]
  },
  {
   "cell_type": "markdown",
   "metadata": {},
   "source": [
    "#### - En el burden no se muestra la solucion para este problema, pero por el analisis del error absoluto se puede ver que es una muy buena aproximacion. "
   ]
  },
  {
   "cell_type": "markdown",
   "metadata": {},
   "source": [
    "### - Ejercicio 3: \n",
    "Repetir el ejercicio 1 usando Crank - Nicolson."
   ]
  },
  {
   "cell_type": "code",
   "execution_count": 11,
   "metadata": {},
   "outputs": [],
   "source": [
    "def EDP_CN_Matricial(c, L, T, h, k, f, a, b):\n",
    "    \n",
    "    r = c*k/h**2\n",
    "    m = round(L/h) + 1\n",
    "    n = round(T/k) + 1\n",
    "    \n",
    "    x = np.linspace(0, L, m)\n",
    "    \n",
    "    w = np.zeros((n,m))\n",
    "    w[0] = f(x)\n",
    "    w[:,0] = a(0) \n",
    "    w[:,-1] = b(L)\n",
    "    \n",
    "    A = tridiag(-r/2, 1+r, -r/2, m-2)\n",
    "    B = tridiag(r/2, 1-r, r/2, m-2)\n",
    "\n",
    "         \n",
    "    A_inv = np.linalg.inv(A)\n",
    "\n",
    "\n",
    "    for i in range(n-1):\n",
    "        \n",
    "        C = np.dot(B, w[i,1:-1])\n",
    "        C[0]  += r/2*(w[i+1,0]  + w[i,0])\n",
    "        C[-1] += r/2*(w[i+1,-1] + w[i,-1])\n",
    "\n",
    "        w[i+1,1:-1] = np.dot(A_inv, C)\n",
    "    \n",
    "    return w, x"
   ]
  },
  {
   "cell_type": "code",
   "execution_count": 12,
   "metadata": {},
   "outputs": [],
   "source": [
    "Mat3, x3 = EDP_CN_Matricial(1, 2, 0.1, 0.5, 0.05, lambda x: np.sin(0.5*x*np.pi), lambda x: 0, lambda x:0)"
   ]
  },
  {
   "cell_type": "code",
   "execution_count": 13,
   "metadata": {},
   "outputs": [
    {
     "data": {
      "text/html": [
       "<div>\n",
       "<style scoped>\n",
       "    .dataframe tbody tr th:only-of-type {\n",
       "        vertical-align: middle;\n",
       "    }\n",
       "\n",
       "    .dataframe tbody tr th {\n",
       "        vertical-align: top;\n",
       "    }\n",
       "\n",
       "    .dataframe thead th {\n",
       "        text-align: right;\n",
       "    }\n",
       "</style>\n",
       "<table border=\"1\" class=\"dataframe\">\n",
       "  <thead>\n",
       "    <tr style=\"text-align: right;\">\n",
       "      <th></th>\n",
       "      <th>x</th>\n",
       "      <th>Aproximacion</th>\n",
       "      <th>Exacta</th>\n",
       "      <th>Error</th>\n",
       "    </tr>\n",
       "  </thead>\n",
       "  <tbody>\n",
       "    <tr>\n",
       "      <th>0</th>\n",
       "      <td>0.0</td>\n",
       "      <td>0.000000</td>\n",
       "      <td>0.000000e+00</td>\n",
       "      <td>0.000000e+00</td>\n",
       "    </tr>\n",
       "    <tr>\n",
       "      <th>1</th>\n",
       "      <td>0.5</td>\n",
       "      <td>0.559251</td>\n",
       "      <td>6.250375e-01</td>\n",
       "      <td>6.578640e-02</td>\n",
       "    </tr>\n",
       "    <tr>\n",
       "      <th>2</th>\n",
       "      <td>1.0</td>\n",
       "      <td>0.790900</td>\n",
       "      <td>8.839365e-01</td>\n",
       "      <td>9.303602e-02</td>\n",
       "    </tr>\n",
       "    <tr>\n",
       "      <th>3</th>\n",
       "      <td>1.5</td>\n",
       "      <td>0.559251</td>\n",
       "      <td>6.250375e-01</td>\n",
       "      <td>6.578640e-02</td>\n",
       "    </tr>\n",
       "    <tr>\n",
       "      <th>4</th>\n",
       "      <td>2.0</td>\n",
       "      <td>0.000000</td>\n",
       "      <td>1.082510e-16</td>\n",
       "      <td>1.082510e-16</td>\n",
       "    </tr>\n",
       "  </tbody>\n",
       "</table>\n",
       "</div>"
      ],
      "text/plain": [
       "     x  Aproximacion        Exacta         Error\n",
       "0  0.0      0.000000  0.000000e+00  0.000000e+00\n",
       "1  0.5      0.559251  6.250375e-01  6.578640e-02\n",
       "2  1.0      0.790900  8.839365e-01  9.303602e-02\n",
       "3  1.5      0.559251  6.250375e-01  6.578640e-02\n",
       "4  2.0      0.000000  1.082510e-16  1.082510e-16"
      ]
     },
     "execution_count": 13,
     "metadata": {},
     "output_type": "execute_result"
    }
   ],
   "source": [
    "Exa1 = Exacta(x1,0.05)\n",
    "Err3 = ErrorAb(Mat3[-1],Exa1)\n",
    "d1 = {'x': x3 , 'Aproximacion': Mat3[-1], 'Exacta': Exa1, 'Error': Err3}\n",
    "df1 = pd.DataFrame(data=d1)\n",
    "df1 = df1[['x','Aproximacion','Exacta','Error']]\n",
    "df1"
   ]
  },
  {
   "cell_type": "markdown",
   "metadata": {},
   "source": [
    "#### Comparacion con el Burden (pag - 855)\n",
    "El el Burden, a manera de solucion, se tiene la siguiente tabla: \n",
    "    <table>\n",
    "  <tr>\n",
    "    <th> Xi </th>\n",
    "    <th> Wi </th> \n",
    "    <th> U(xi,tj)</th>\n",
    "  </tr>\n",
    "  <tr>\n",
    "    <td>0.5</td>\n",
    "    <td>0.559251</td> \n",
    "    <td>0.552493</td>\n",
    "  </tr>\n",
    "  <tr>\n",
    "    <td>1.0</td>\n",
    "    <td>0.790901</td> \n",
    "    <td>0.781344</td>\n",
    "  </tr>\n",
    "  <tr>\n",
    "    <td>1.5</td>\n",
    "    <td>0.559252</td> \n",
    "    <td>0.552493</td>\n",
    "  </tr>\n",
    "</table>\n",
    "\n",
    "#### Como se puede apreciar, los resultados del algoritmo son iguales a las de las soluciones del libro."
   ]
  },
  {
   "cell_type": "markdown",
   "metadata": {},
   "source": [
    "### - Ejercicio 4: \n",
    "Repetir el ejercicio 4 usando Crank - Nicolson."
   ]
  },
  {
   "cell_type": "code",
   "execution_count": 14,
   "metadata": {},
   "outputs": [],
   "source": [
    "Mat4, x4 = EDP_CN_Matricial(1/4, 2, 0.1, 1/1.5, 0.05, lambda x: 2*np.sin(2*x*np.pi), lambda x: 0, lambda x:0)"
   ]
  },
  {
   "cell_type": "code",
   "execution_count": 15,
   "metadata": {},
   "outputs": [
    {
     "data": {
      "text/html": [
       "<div>\n",
       "<style scoped>\n",
       "    .dataframe tbody tr th:only-of-type {\n",
       "        vertical-align: middle;\n",
       "    }\n",
       "\n",
       "    .dataframe tbody tr th {\n",
       "        vertical-align: top;\n",
       "    }\n",
       "\n",
       "    .dataframe thead th {\n",
       "        text-align: right;\n",
       "    }\n",
       "</style>\n",
       "<table border=\"1\" class=\"dataframe\">\n",
       "  <thead>\n",
       "    <tr style=\"text-align: right;\">\n",
       "      <th></th>\n",
       "      <th>x</th>\n",
       "      <th>Aproximacion</th>\n",
       "      <th>Exacta</th>\n",
       "      <th>Error</th>\n",
       "    </tr>\n",
       "  </thead>\n",
       "  <tbody>\n",
       "    <tr>\n",
       "      <th>0</th>\n",
       "      <td>0.000000</td>\n",
       "      <td>0.000000</td>\n",
       "      <td>0.000000e+00</td>\n",
       "      <td>0.000000e+00</td>\n",
       "    </tr>\n",
       "    <tr>\n",
       "      <th>1</th>\n",
       "      <td>0.666667</td>\n",
       "      <td>-1.462951</td>\n",
       "      <td>-1.531023e+00</td>\n",
       "      <td>6.807149e-02</td>\n",
       "    </tr>\n",
       "    <tr>\n",
       "      <th>2</th>\n",
       "      <td>1.333333</td>\n",
       "      <td>1.462951</td>\n",
       "      <td>1.531023e+00</td>\n",
       "      <td>6.807149e-02</td>\n",
       "    </tr>\n",
       "    <tr>\n",
       "      <th>3</th>\n",
       "      <td>2.000000</td>\n",
       "      <td>0.000000</td>\n",
       "      <td>-8.660080e-16</td>\n",
       "      <td>8.660080e-16</td>\n",
       "    </tr>\n",
       "  </tbody>\n",
       "</table>\n",
       "</div>"
      ],
      "text/plain": [
       "          x  Aproximacion        Exacta         Error\n",
       "0  0.000000      0.000000  0.000000e+00  0.000000e+00\n",
       "1  0.666667     -1.462951 -1.531023e+00  6.807149e-02\n",
       "2  1.333333      1.462951  1.531023e+00  6.807149e-02\n",
       "3  2.000000      0.000000 -8.660080e-16  8.660080e-16"
      ]
     },
     "execution_count": 15,
     "metadata": {},
     "output_type": "execute_result"
    }
   ],
   "source": [
    "Exa2 = Exacta2(x4,0.05)\n",
    "Err4 = ErrorAb(Mat4[-1],Exa2)\n",
    "d4 = {'x': x2 , 'Aproximacion': Mat4[-1], 'Exacta': Exa2, 'Error': Err4}\n",
    "df4 = pd.DataFrame(data=d4)\n",
    "df4 = df4[['x','Aproximacion','Exacta','Error']]\n",
    "df4"
   ]
  },
  {
   "cell_type": "markdown",
   "metadata": {},
   "source": [
    "#### - En el burden no se muestra la solucion para este problema, pero por el analisis del error absoluto se puede ver que es una muy buena aproximacion. "
   ]
  }
 ],
 "metadata": {
  "kernelspec": {
   "display_name": "Python 3",
   "language": "python",
   "name": "python3"
  },
  "language_info": {
   "codemirror_mode": {
    "name": "ipython",
    "version": 3
   },
   "file_extension": ".py",
   "mimetype": "text/x-python",
   "name": "python",
   "nbconvert_exporter": "python",
   "pygments_lexer": "ipython3",
   "version": "3.6.4"
  }
 },
 "nbformat": 4,
 "nbformat_minor": 2
}
